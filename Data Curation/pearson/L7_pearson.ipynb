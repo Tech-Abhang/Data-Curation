{
  "nbformat": 4,
  "nbformat_minor": 0,
  "metadata": {
    "colab": {
      "provenance": []
    },
    "kernelspec": {
      "name": "python3",
      "display_name": "Python 3"
    },
    "language_info": {
      "name": "python"
    }
  },
  "cells": [
    {
      "cell_type": "code",
      "execution_count": null,
      "metadata": {
        "id": "8pWXQ3DYJxnF"
      },
      "outputs": [],
      "source": [
        "import numpy as np\n",
        "import pandas as pd\n",
        "\n",
        "age = np.array([23,23,27,27,39,41,47,49,50,52,54,54,56,57,58,58,60,61])\n",
        "\n",
        "p_fat = np.array([9.5,26.5,7.8,17.8,31.4,25.9,27.4,27.2,31.2,34.6,42.5,28.8,33.4,30.2,34.1,32.9,41.2,35.7])"
      ]
    },
    {
      "cell_type": "code",
      "source": [
        "age_m = age.mean()\n",
        "p_fat_m = p_fat.mean()"
      ],
      "metadata": {
        "id": "bozxegM8Lyf1"
      },
      "execution_count": null,
      "outputs": []
    },
    {
      "cell_type": "code",
      "source": [
        "numerator = np.sum((age - age_m)*(p_fat - p_fat_m))\n",
        "print(numerator)"
      ],
      "metadata": {
        "colab": {
          "base_uri": "https://localhost:8080/"
        },
        "id": "PsgT0-oUMEb8",
        "outputId": "3245f4dd-f1c5-47e7-fe32-e58d2abc6684"
      },
      "execution_count": null,
      "outputs": [
        {
          "output_type": "stream",
          "name": "stdout",
          "text": [
            "1700.3333333333333\n"
          ]
        }
      ]
    },
    {
      "cell_type": "code",
      "source": [
        "denominator = np.sqrt(np.sum((age-age_m)**2)) * np.sqrt(np.sum((p_fat - p_fat_m)**2))\n",
        "print(denominator)"
      ],
      "metadata": {
        "colab": {
          "base_uri": "https://localhost:8080/"
        },
        "id": "fIMnm8z6MSXQ",
        "outputId": "2d583cd2-17c4-4025-efcb-b31b8c842df7"
      },
      "execution_count": null,
      "outputs": [
        {
          "output_type": "stream",
          "name": "stdout",
          "text": [
            "2079.6162474520793\n"
          ]
        }
      ]
    },
    {
      "cell_type": "code",
      "source": [
        "pearson = numerator / denominator\n",
        "print(pearson)"
      ],
      "metadata": {
        "colab": {
          "base_uri": "https://localhost:8080/"
        },
        "id": "IDNUPXIiNdva",
        "outputId": "a8a4cb38-b535-4041-a5ac-7a44154fb43b"
      },
      "execution_count": null,
      "outputs": [
        {
          "output_type": "stream",
          "name": "stdout",
          "text": [
            "0.8176187964565872\n"
          ]
        }
      ]
    },
    {
      "cell_type": "code",
      "source": [
        "print(\"Strong correlation strength as pearson > 0.71\")"
      ],
      "metadata": {
        "id": "HWdqvicZNw0q"
      },
      "execution_count": null,
      "outputs": []
    }
  ]
}