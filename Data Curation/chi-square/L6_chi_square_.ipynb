{
  "cells": [
    {
      "cell_type": "code",
      "execution_count": null,
      "metadata": {
        "colab": {
          "base_uri": "https://localhost:8080/"
        },
        "id": "rwBILx2aENWy",
        "outputId": "1c033747-56fe-429e-fc91-571a82b08912"
      },
      "outputs": [
        {
          "name": "stdout",
          "output_type": "stream",
          "text": [
            "[[0. 0. 0.]\n",
            " [0. 0. 0.]]\n",
            "Expected Frequencies:\n",
            "[[103.2 103.8 129. ]\n",
            " [ 68.8  69.2  86. ]]\n",
            "\n",
            "Chi-Square Value: 4.2085\n",
            "Degrees of Freedom: 2\n",
            "null hytothesis both variables are not dependent\n"
          ]
        }
      ],
      "source": [
        "import numpy as np\n",
        "\n",
        "# Observed frequencies from the table\n",
        "observed = np.array([\n",
        "    [112, 94, 130],  # Passed\n",
        "    [60, 79, 85]     # Failed\n",
        "])\n",
        "\n",
        "# Calculate row and column totals\n",
        "row_totals = observed.sum(axis=1)\n",
        "col_totals = observed.sum(axis=0)\n",
        "grand_total = observed.sum()\n",
        "\n",
        "# Calculate expected frequencies\n",
        "expected = np.zeros(observed.shape)\n",
        "\n",
        "print(expected)\n",
        "\n",
        "for i in range(observed.shape[0]):\n",
        "    for j in range(observed.shape[1]):\n",
        "        expected[i,j] = (row_totals[i] * col_totals[j]) / grand_total\n",
        "\n",
        "# Calculate chi-square statistic\n",
        "chi_square = np.sum((observed - expected)**2 / expected)\n",
        "\n",
        "# Calculate degrees of freedom\n",
        "df = (observed.shape[0] - 1) * (observed.shape[1] - 1)\n",
        "\n",
        "# Print results\n",
        "print(\"Expected Frequencies:\")\n",
        "print(expected)\n",
        "print(f\"\\nChi-Square Value: {chi_square:.4f}\")\n",
        "print(f\"Degrees of Freedom: {df}\")\n",
        "\n",
        "significant_value = 5.9915\n",
        "\n",
        "if (chi_square > significant_value):\n",
        "    print(\"alternate hypothetis both variables are dependent\")\n",
        "\n",
        "else:\n",
        "    print(\"null hytothesis both variables are not dependent\")\n"
      ]
    }
  ],
  "metadata": {
    "colab": {
      "provenance": []
    },
    "kernelspec": {
      "display_name": "Python 3",
      "name": "python3"
    },
    "language_info": {
      "name": "python"
    }
  },
  "nbformat": 4,
  "nbformat_minor": 0
}
