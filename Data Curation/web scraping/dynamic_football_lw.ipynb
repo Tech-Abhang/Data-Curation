{
  "nbformat": 4,
  "nbformat_minor": 0,
  "metadata": {
    "colab": {
      "provenance": []
    },
    "kernelspec": {
      "name": "python3",
      "display_name": "Python 3"
    },
    "language_info": {
      "name": "python"
    }
  },
  "cells": [
    {
      "cell_type": "code",
      "execution_count": null,
      "metadata": {
        "id": "-4tips8UEf0g"
      },
      "outputs": [],
      "source": [
        "import time\n",
        "import csv\n",
        "from selenium import webdriver\n",
        "from bs4 import BeautifulSoup\n",
        "\n",
        "# Initialize the WebDriver (e.g., using Chrome)\n",
        "driver = webdriver.Chrome()  # Ensure you have the appropriate WebDriver installed\n",
        "\n",
        "url = \"https://premierleague.com/tables\"\n",
        "driver.get(url)\n",
        "\n",
        "# Give the page some time to load the dynamic content\n",
        "time.sleep(5)  # Adjust the sleep time as needed\n",
        "\n",
        "# Extract the page source after the content is fully loaded\n",
        "html = driver.page_source\n",
        "soup = BeautifulSoup(html, \"html.parser\")\n",
        "\n",
        "rows = soup.find_all('div', class_='table-row')\n",
        "\n",
        "# Open a file to write data\n",
        "with open('abhang.csv', 'w', newline='', encoding='utf-8') as file:\n",
        "    writer = csv.writer(file)\n",
        "\n",
        "    # Write the header row\n",
        "    writer.writerow(['Rank', 'Name', 'Total net worth', 'Last change', 'YTD change', 'Country / Region', 'Industry'])\n",
        "\n",
        "    # Loop through rows and extract cell data\n",
        "    for row in rows:\n",
        "            rank = row.find('div', class_='t-rank').text.strip()\n",
        "            name = row.find('div', class_='t-name').find('a').text.strip()\n",
        "            total_net_worth = row.find('div', class_='t-nw').text.strip()\n",
        "            last_change = row.find('div', class_='t-lcd').text.strip()\n",
        "            ytd_change = row.find('div', class_='t-ycd').text.strip()\n",
        "            country_region = row.find('div', class_='t-country').text.strip()\n",
        "            industry = row.find('div', class_='t-industry').text.strip()\n",
        "\n",
        "            # Write the row to the CSV file\n",
        "            writer.writerow([rank, name, total_net_worth, last_change, ytd_change, country_region, industry])\n",
        "\n",
        "print(\"Data has been exported successfully\")\n",
        "\n",
        "# Close the WebDriver\n",
        "driver.quit()"
      ]
    }
  ]
}