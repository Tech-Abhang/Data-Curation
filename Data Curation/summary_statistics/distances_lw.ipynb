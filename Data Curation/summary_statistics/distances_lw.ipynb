{
  "nbformat": 4,
  "nbformat_minor": 0,
  "metadata": {
    "colab": {
      "provenance": []
    },
    "kernelspec": {
      "name": "python3",
      "display_name": "Python 3"
    },
    "language_info": {
      "name": "python"
    }
  },
  "cells": [
    {
      "cell_type": "code",
      "execution_count": 6,
      "metadata": {
        "id": "QhBhy-v6GVb_"
      },
      "outputs": [],
      "source": [
        "import math\n",
        "\n",
        "# Delivery hub coordinates\n",
        "hub_x, hub_y = 0, 0\n",
        "\n",
        "# Customer locations\n",
        "customers = [(3, 4), (1, 1), (5, 2)]\n"
      ]
    },
    {
      "cell_type": "code",
      "source": [
        "# Loop through each customer and calculate distances\n",
        "for i, (customer_x, customer_y) in enumerate(customers):\n",
        "    print(f\"Customer {i} at ({customer_x}, {customer_y}):\")\n",
        "\n",
        "    # Euclidean Distance\n",
        "    euclidean = math.sqrt((customer_x - hub_x)**2 + (customer_y - hub_y)**2)\n",
        "    print(f\"  Euclidean Distance: {euclidean}\")\n",
        "\n",
        "    # Manhattan Distance\n",
        "    manhattan = abs(customer_x - hub_x) + abs(customer_y - hub_y)\n",
        "    print(f\"  Manhattan Distance: {manhattan}\")\n",
        "\n",
        "    # Minkowski Distance (p=3)\n",
        "    minkowski = (abs(customer_x - hub_x)**3 + abs(customer_y - hub_y)**3)**(1/3)\n",
        "    print(f\"  Minkowski Distance (p=3): {minkowski}\")\n",
        "\n",
        "    # Chebyshev Distance\n",
        "    chebyshev = max(abs(customer_x - hub_x), abs(customer_y - hub_y))\n",
        "    print(f\"  Chebyshev Distance: {chebyshev}\")\n",
        "\n",
        "    print()"
      ],
      "metadata": {
        "colab": {
          "base_uri": "https://localhost:8080/"
        },
        "id": "9vCNWizUJk6V",
        "outputId": "965b3f69-ffc7-4618-dd56-08f1de30e123"
      },
      "execution_count": 8,
      "outputs": [
        {
          "output_type": "stream",
          "name": "stdout",
          "text": [
            "Customer 0 at (3, 4):\n",
            "  Euclidean Distance: 5.0\n",
            "  Manhattan Distance: 7\n",
            "  Minkowski Distance (p=3): 4.497941445275415\n",
            "  Chebyshev Distance: 4\n",
            "\n",
            "Customer 1 at (1, 1):\n",
            "  Euclidean Distance: 1.4142135623730951\n",
            "  Manhattan Distance: 2\n",
            "  Minkowski Distance (p=3): 1.2599210498948732\n",
            "  Chebyshev Distance: 1\n",
            "\n",
            "Customer 2 at (5, 2):\n",
            "  Euclidean Distance: 5.385164807134504\n",
            "  Manhattan Distance: 7\n",
            "  Minkowski Distance (p=3): 5.104468722001463\n",
            "  Chebyshev Distance: 5\n",
            "\n"
          ]
        }
      ]
    }
  ]
}