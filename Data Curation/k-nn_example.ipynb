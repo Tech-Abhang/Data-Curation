{
 "cells": [
  {
   "cell_type": "code",
   "execution_count": 1,
   "id": "2e95b82e-749b-462a-9382-4d960a2ccef7",
   "metadata": {},
   "outputs": [
    {
     "name": "stdout",
     "output_type": "stream",
     "text": [
      "Predicted Class (0 = Teen, 1 = Adult): 1\n"
     ]
    }
   ],
   "source": [
    "import numpy as np\n",
    "import matplotlib.pyplot as plt\n",
    "from sklearn.neighbors import KNeighborsClassifier\n",
    "\n",
    "# Sample data: [Height (cm), Age (years)]\n",
    "X = np.array([[160, 15], [170, 16], [185, 35], [190, 40], [170, 18], [165, 17]])\n",
    "\n",
    "# Labels: 0 = Teen, 1 = Adult\n",
    "y = np.array([0, 0, 1, 1, 0, 0])\n",
    "\n",
    "# New data point (a student with height=185cm and age=17)\n",
    "new_student = np.array([[195, 17]])\n",
    "\n",
    "# Apply KNN without Normalization\n",
    "knn = KNeighborsClassifier(n_neighbors=3)\n",
    "knn.fit(X, y)\n",
    "prediction = knn.predict(new_student)\n",
    "\n",
    "print(\"Predicted Class (0 = Teen, 1 = Adult):\", prediction[0])\n"
   ]
  },
  {
   "cell_type": "code",
   "execution_count": 2,
   "id": "0ed080e0-d6df-4669-bc33-9e3f94842c78",
   "metadata": {},
   "outputs": [
    {
     "name": "stdout",
     "output_type": "stream",
     "text": [
      "Predicted Class (0 = Teen, 1 = Adult) after Normalization: 0\n"
     ]
    }
   ],
   "source": [
    "from sklearn.preprocessing import MinMaxScaler\n",
    "\n",
    "# Apply Min-Max Normalization\n",
    "scaler = MinMaxScaler()\n",
    "X_normalized = scaler.fit_transform(X)  # Normalize training data\n",
    "new_student_normalized = scaler.transform(new_student)  # Normalize new data point\n",
    "\n",
    "# Step 2: Apply KNN after Normalization\n",
    "knn = KNeighborsClassifier(n_neighbors=3)\n",
    "knn.fit(X_normalized, y)\n",
    "prediction = knn.predict(new_student_normalized)\n",
    "\n",
    "print(\"Predicted Class (0 = Teen, 1 = Adult) after Normalization:\", prediction[0])"
   ]
  }
 ],
 "metadata": {
  "kernelspec": {
   "display_name": "Python 3 (ipykernel)",
   "language": "python",
   "name": "python3"
  },
  "language_info": {
   "codemirror_mode": {
    "name": "ipython",
    "version": 3
   },
   "file_extension": ".py",
   "mimetype": "text/x-python",
   "name": "python",
   "nbconvert_exporter": "python",
   "pygments_lexer": "ipython3",
   "version": "3.12.4"
  }
 },
 "nbformat": 4,
 "nbformat_minor": 5
}
